{
 "cells": [
  {
   "cell_type": "code",
   "execution_count": 1,
   "metadata": {},
   "outputs": [
    {
     "name": "stdout",
     "output_type": "stream",
     "text": [
      "Files already downloaded and verified\n",
      "Imagen prueba_0.png guardada.\n",
      "Imagen prueba_1.png guardada.\n",
      "Imagen prueba_2.png guardada.\n",
      "Imagen prueba_3.png guardada.\n",
      "Imagen prueba_4.png guardada.\n",
      "Imagen prueba_5.png guardada.\n",
      "Imagen prueba_6.png guardada.\n",
      "Imagen prueba_7.png guardada.\n",
      "Imagen prueba_8.png guardada.\n",
      "Imagen prueba_9.png guardada.\n"
     ]
    }
   ],
   "source": [
    "import torch\n",
    "from torchvision import datasets\n",
    "from torchvision.transforms import ToTensor, ToPILImage\n",
    "from torch.utils.data import DataLoader\n",
    "from PIL import Image\n",
    "import os\n",
    "import requests\n",
    "\n",
    "# Cargar el dataset CIFAR-100 y aplicar transformaciones para convertir las imágenes a tensores\n",
    "cifar100 = datasets.CIFAR100(root='./data', train=False, download=True, transform=ToTensor())\n",
    "\n",
    "# DataLoader para cargar las imágenes\n",
    "test_loader = DataLoader(cifar100, batch_size=10, shuffle=True)\n",
    "\n",
    "# Selecciona 10 imágenes de prueba del dataset CIFAR-100\n",
    "images, labels = next(iter(test_loader))\n",
    "\n",
    "# Crear el directorio si no existe\n",
    "os.makedirs('test_images/cifar_100_test_selected', exist_ok=True)\n",
    "\n",
    "# Transformar las imágenes de tensores a formato PIL y guardarlas en formato PNG\n",
    "to_pil = ToPILImage()\n",
    "\n",
    "for i in range(10):\n",
    "    img = to_pil(images[i])  # Convertir de tensor a PIL\n",
    "    img.save(f'test_images/cifar_100_test_selected/prueba_{i}.png')  # Guardar la imagen\n",
    "    print(f'Imagen prueba_{i}.png guardada.')\n"
   ]
  },
  {
   "cell_type": "code",
   "execution_count": 4,
   "metadata": {},
   "outputs": [
    {
     "name": "stdout",
     "output_type": "stream",
     "text": [
      "Predicción para prueba_0.png: {'predicción': 'table'}\n",
      "Predicción para prueba_1.png: {'predicción': 'whale'}\n",
      "Predicción para prueba_2.png: {'predicción': 'sea'}\n",
      "Predicción para prueba_3.png: {'predicción': 'seal'}\n",
      "Predicción para prueba_4.png: {'predicción': 'raccoon'}\n",
      "Predicción para prueba_5.png: {'predicción': 'castle'}\n",
      "Predicción para prueba_6.png: {'predicción': 'apple'}\n",
      "Predicción para prueba_7.png: {'predicción': 'television'}\n",
      "Predicción para prueba_8.png: {'predicción': 'squirrel'}\n",
      "Predicción para prueba_9.png: {'predicción': 'bridge'}\n"
     ]
    }
   ],
   "source": [
    "# URL de la API de FastAPI (asegúrate de que la API esté en ejecución)\n",
    "api_url = \"http://localhost:8000/predict/\"\n",
    "\n",
    "# Directorio donde están guardadas las imágenes de prueba\n",
    "image_folder = 'test_images/cifar_100_test_selected/'\n",
    "\n",
    "# Probar la API con cada una de las 10 imágenes\n",
    "for i in range(10):\n",
    "    image_path = f'{image_folder}prueba_{i}.png'\n",
    "    \n",
    "    # Abrir la imagen y enviarla a la API\n",
    "    with open(image_path, 'rb') as img_file:\n",
    "        response = requests.post(api_url, files={'file': img_file})\n",
    "        \n",
    "    # Imprimir la respuesta de la API (la predicción)\n",
    "    print(f\"Predicción para prueba_{i}.png: {response.json()}\")"
   ]
  },
  {
   "cell_type": "code",
   "execution_count": 5,
   "metadata": {},
   "outputs": [
    {
     "name": "stdout",
     "output_type": "stream",
     "text": [
      "Predicción para prueba_1.png: {'predicción': 'camel'}\n",
      "Predicción para prueba_2.png: {'predicción': 'dinosaur'}\n",
      "Predicción para prueba_3.png: {'predicción': 'whale'}\n",
      "Predicción para prueba_4.png: {'predicción': 'motorcycle'}\n",
      "Predicción para prueba_5.png: {'predicción': 'bus'}\n",
      "Predicción para prueba_6.png: {'predicción': 'clock'}\n",
      "Predicción para prueba_7.png: {'predicción': 'apple'}\n",
      "Predicción para prueba_8.png: {'predicción': 'bottle'}\n",
      "Predicción para prueba_9.png: {'predicción': 'tank'}\n",
      "Predicción para prueba_10.png: {'predicción': 'tiger'}\n"
     ]
    }
   ],
   "source": [
    "# URL de la API de FastAPI (asegúrate de que la API esté en ejecución)\n",
    "api_url = \"http://localhost:8000/predict/\"\n",
    "\n",
    "# Directorio donde están guardadas las imágenes de prueba\n",
    "image_folder = 'test_images/web_test/'\n",
    "\n",
    "# Probar la API con cada una de las 10 imágenes\n",
    "for i in range(10):\n",
    "    image_path = f'{image_folder}{i+1}.png'\n",
    "    \n",
    "    # Abrir la imagen y enviarla a la API\n",
    "    with open(image_path, 'rb') as img_file:\n",
    "        response = requests.post(api_url, files={'file': img_file})\n",
    "        \n",
    "    # Imprimir la respuesta de la API (la predicción)\n",
    "    print(f\"Predicción para prueba_{i+1}.png: {response.json()}\")"
   ]
  }
 ],
 "metadata": {
  "kernelspec": {
   "display_name": "api_class",
   "language": "python",
   "name": "python3"
  },
  "language_info": {
   "codemirror_mode": {
    "name": "ipython",
    "version": 3
   },
   "file_extension": ".py",
   "mimetype": "text/x-python",
   "name": "python",
   "nbconvert_exporter": "python",
   "pygments_lexer": "ipython3",
   "version": "3.10.12"
  }
 },
 "nbformat": 4,
 "nbformat_minor": 2
}

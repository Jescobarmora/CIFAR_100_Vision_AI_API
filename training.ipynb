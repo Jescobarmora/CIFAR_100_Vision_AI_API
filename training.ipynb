{
 "cells": [
  {
   "cell_type": "code",
   "execution_count": 3,
   "metadata": {},
   "outputs": [],
   "source": [
    "import torch\n",
    "import torch.nn as nn\n",
    "import torch.optim as optim\n",
    "from torchvision import datasets, transforms, models\n",
    "from transformers import ViTForImageClassification, ViTFeatureExtractor\n",
    "import timm  # Para cargar EfficientNet y otros modelos de timm"
   ]
  },
  {
   "cell_type": "code",
   "execution_count": null,
   "metadata": {},
   "outputs": [],
   "source": [
    "# Configuración de hiperparámetros\n",
    "batch_size = 32\n",
    "num_epochs = 20\n",
    "learning_rate = 0.001\n",
    "\n",
    "# Transformaciones de las imágenes (normalización CIFAR-100)\n",
    "transform = transforms.Compose([\n",
    "    transforms.Resize((224, 224)),  # Ajustamos para todos los modelos\n",
    "    transforms.ToTensor(),\n",
    "    transforms.Normalize((0.5071, 0.4867, 0.4408), (0.2675, 0.2565, 0.2761))  # Normalización CIFAR-100\n",
    "])\n",
    "\n",
    "# Cargar el dataset CIFAR-100\n",
    "train_dataset = datasets.CIFAR100(root='./data', train=True, download=True, transform=transform)\n",
    "test_dataset = datasets.CIFAR100(root='./data', train=False, download=True, transform=transform)\n",
    "\n",
    "train_loader = torch.utils.data.DataLoader(train_dataset, batch_size=batch_size, shuffle=True, num_workers=4)\n",
    "test_loader = torch.utils.data.DataLoader(test_dataset, batch_size=batch_size, shuffle=False, num_workers=4)\n",
    "\n",
    "# Cargar los modelos preentrenados\n",
    "resnet = models.resnet50(pretrained=True)\n",
    "efficientnet = timm.create_model('efficientnet_b0', pretrained=True, num_classes=100)\n",
    "vit = ViTForImageClassification.from_pretrained('google/vit-base-patch16-224-in21k', num_labels=100)\n",
    "\n",
    "# Ajustar la capa de salida de los modelos\n",
    "resnet.fc = nn.Linear(resnet.fc.in_features, 100)\n",
    "efficientnet.classifier = nn.Linear(efficientnet.classifier.in_features, 100)\n",
    "vit.classifier = nn.Linear(vit.classifier.in_features, 100)\n",
    "\n",
    "# Mover los modelos a la GPU si está disponible\n",
    "device = torch.device('cuda' if torch.cuda.is_available() else 'cpu')\n",
    "resnet = resnet.to(device)\n",
    "efficientnet = efficientnet.to(device)\n",
    "vit = vit.to(device)\n",
    "\n",
    "# Definir la función de pérdida y el optimizador\n",
    "criterion = nn.CrossEntropyLoss()\n",
    "optimizer_resnet = optim.Adam(resnet.parameters(), lr=learning_rate)\n",
    "optimizer_efficientnet = optim.Adam(efficientnet.parameters(), lr=learning_rate)\n",
    "optimizer_vit = optim.Adam(vit.parameters(), lr=learning_rate)\n",
    "\n",
    "# Función para entrenar un modelo\n",
    "def train_model(model, optimizer, train_loader, num_epochs):\n",
    "    model.train()\n",
    "    for epoch in range(num_epochs):\n",
    "        running_loss = 0.0\n",
    "        running_corrects = 0\n",
    "        for inputs, labels in train_loader:\n",
    "            inputs, labels = inputs.to(device), labels.to(device)\n",
    "            optimizer.zero_grad()\n",
    "            outputs = model(inputs)\n",
    "            loss = criterion(outputs, labels)\n",
    "            loss.backward()\n",
    "            optimizer.step()\n",
    "\n",
    "            _, preds = torch.max(outputs, 1)\n",
    "            running_loss += loss.item() * inputs.size(0)\n",
    "            running_corrects += torch.sum(preds == labels.data)\n",
    "\n",
    "        epoch_loss = running_loss / len(train_loader.dataset)\n",
    "        epoch_acc = running_corrects.double() / len(train_loader.dataset)\n",
    "        print(f'Epoch [{epoch+1}/{num_epochs}], Loss: {epoch_loss:.4f}, Acc: {epoch_acc:.4f}')\n",
    "    return model"
   ]
  },
  {
   "cell_type": "code",
   "execution_count": null,
   "metadata": {},
   "outputs": [],
   "source": [
    "print(\"Entrenando ResNet...\")\n",
    "resnet = train_model(resnet, optimizer_resnet, train_loader, num_epochs)\n",
    "# torch.save(resnet, '/content/drive/MyDrive/Universidad/APIs y Desarrollo de inteligencia artificial en Python/Corte 2/Parcial_2_1/Punto_3/Models/resnet50_model.pkl')\n",
    "torch.save(resnet, '/kaggle/working/resnet50_model.pkl')"
   ]
  },
  {
   "cell_type": "code",
   "execution_count": null,
   "metadata": {},
   "outputs": [],
   "source": [
    "print(\"Entrenando EfficientNet...\")\n",
    "efficientnet = train_model(efficientnet, optimizer_efficientnet, train_loader, num_epochs)\n",
    "# torch.save(efficientnet, '/content/drive/MyDrive/Universidad/APIs y Desarrollo de inteligencia artificial en Python/Corte 2/Parcial_2_1/Punto_3/Models/efficientnet_b0_model.pkl')\n",
    "torch.save(resnet, '/kaggle/working/efficientnet_b0_model.pkl')"
   ]
  }
 ],
 "metadata": {
  "kernelspec": {
   "display_name": "api_class",
   "language": "python",
   "name": "python3"
  },
  "language_info": {
   "codemirror_mode": {
    "name": "ipython",
    "version": 3
   },
   "file_extension": ".py",
   "mimetype": "text/x-python",
   "name": "python",
   "nbconvert_exporter": "python",
   "pygments_lexer": "ipython3",
   "version": "3.10.12"
  }
 },
 "nbformat": 4,
 "nbformat_minor": 2
}
